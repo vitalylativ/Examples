{
 "cells": [
  {
   "cell_type": "code",
   "execution_count": 29,
   "metadata": {},
   "outputs": [],
   "source": [
    "import numpy as np\n",
    "import matplotlib.pyplot as plt\n",
    "import time"
   ]
  },
  {
   "cell_type": "markdown",
   "metadata": {},
   "source": [
    "# Простейшие алгоритмы поиска корня"
   ]
  },
  {
   "cell_type": "code",
   "execution_count": 30,
   "metadata": {},
   "outputs": [],
   "source": [
    "def root_dichotomy(f,a,b,e):    # метод деления отрезка пополам\n",
    "    if (f(a)*f(b) > 0):         # а, b - исследуемый отрезок\n",
    "        print(\"error: loaclly convex function\")            # e - точность\n",
    "        return -1\n",
    "    i = 0\n",
    "    while (b-a > e):\n",
    "        i += 1\n",
    "        c = (b+a)/2\n",
    "        d = f(a) * f(c)\n",
    "        if (d < 0):\n",
    "            b = c\n",
    "        if d == 0:\n",
    "            return c\n",
    "        if (d > 0):\n",
    "            a = c   \n",
    "    return a, i\n",
    "\n",
    "def root_newton(f, df, a, b, e, n):  # метод Ньютона\n",
    "    i = 1                            # n - ограничение числа итераций\n",
    "    x = (b+a)/2\n",
    "    if (f(x) == 0):\n",
    "        return x\n",
    "    \n",
    "    y = x - f(x)/df(x)\n",
    "    while (np.abs(x-y) > e) and (i < n):\n",
    "        x = y\n",
    "        y = x - f(x)/df(x)\n",
    "        i += 1\n",
    "    return x, np.abs(x-y), i\n",
    "\n",
    "def root_system_newton(f,J,x,e, n):  # метод Ньютона для систем\n",
    "    i = 1                            # J - якобиан отображения f\n",
    "    if (np.all(f(x) == 0)):\n",
    "        return x\n",
    "    \n",
    "    Jinv = np.linalg.inv(J(x))\n",
    "    y = x - np.dot(Jinv,f(x))\n",
    "    while (np.linalg.norm(x-y) > e) and (i < n):\n",
    "        Jinv = np.linalg.inv(J(x))\n",
    "        x = y\n",
    "        y = x - np.dot(Jinv,f(x))\n",
    "        i += 1\n",
    "    return x, np.linalg.norm(x-y), i\n",
    "\n",
    "def root_grad_desc(F, dF, x, n, t): #метод градиентного спуска для F = \\f\\^2 ищем минимум\n",
    "    for i in range(n):              #dF - градиент функции F\n",
    "        if i == n - 1:\n",
    "            y = x\n",
    "        x = x - t * dF(x)\n",
    "        \n",
    "    return x, F(x), np.linalg.norm(x-y)"
   ]
  },
  {
   "cell_type": "markdown",
   "metadata": {},
   "source": [
    "# Решение СЛАУ"
   ]
  },
  {
   "cell_type": "code",
   "execution_count": 97,
   "metadata": {},
   "outputs": [],
   "source": [
    "def eig(A):   #возвращает максимальное собственное значение\n",
    "    n = len(A)\n",
    "    x = np.random.randn(n)\n",
    "    for i in range(100):\n",
    "        x = np.dot(A, x)\n",
    "    y = A @ x\n",
    "    return (np.dot(y,x)/np.dot(x,x))\n",
    "\n",
    "def criterion(A, f, x, e):     #критерий остановки поиска решения системы Ax = f с точностью e\n",
    "    if np.linalg.norm(np.dot(A,x)-f) < e:\n",
    "        return True\n",
    "    return False\n",
    "\n",
    "def iter_process_Seid(A, f, U, D, L, x_init, e):  #метод Зейделя\n",
    "    start_time = time.time()\n",
    "    R = -np.linalg.inv(L + D)\n",
    "    F = -np.dot(R,f)\n",
    "    R = np.dot(R,U)\n",
    "    x = np.dot(R, x_init) + F\n",
    "    num_iters = 0\n",
    "    while(not criterion(A,f,x,e)):\n",
    "        x = np.dot(R, x) + F\n",
    "        u = np.dot(A,x)-f\n",
    "        num_iters += 1\n",
    "        print (\"Номер итерации {0}: норма невязки {1}\".format(\n",
    "                    num_iters, np.linalg.norm(u)))\n",
    "    print(\"Заняло {0} сек\".format(time.time() - start_time))\n",
    "    return x\n",
    "\n",
    "def iter_process_Jac(A, f, U, D, L, x_init, e): #метод Якоби\n",
    "    start_time = time.time()\n",
    "    R = np.linalg.inv(D)\n",
    "    F = np.dot(R,f)\n",
    "    R = -np.dot(R, L + U)\n",
    "    x = np.dot(R, x_init) + F\n",
    "    num_iters = 0\n",
    "    while(not criterion(A,f,x,e)):\n",
    "        x = np.dot(R, x) + F\n",
    "        u = np.dot(A,x)-f\n",
    "        num_iters += 1\n",
    "        if (num_iters % 5 == 0):\n",
    "            print (\"Номер итерации {0}: норма невязки {1}\".format(\n",
    "                    num_iters, np.linalg.norm(u)))\n",
    "    print(\"Заняло {0} сек\".format(time.time() - start_time))\n",
    "    return x\n",
    "\n",
    "def is_eye(A):          #для проверки итоговой матрицы на единичность\n",
    "    n = len(A)\n",
    "    for i in range(n):\n",
    "        for j in range(n):\n",
    "            if i == j and A[i,i] == 1:\n",
    "                continue\n",
    "            elif i != j and A[i,j] == 0:\n",
    "                continue\n",
    "            else: return False\n",
    "    return True\n",
    "\n",
    "def gauss(B,g):        #метод Гаусса решения СЛАУ\n",
    "    start_time = time.time()\n",
    "    A = B.copy()\n",
    "    f = g.copy()\n",
    "    n = len(A)\n",
    "    for i in range(n):\n",
    "        temp = A[i,i]\n",
    "        A[i,:] = A[i,:] / temp\n",
    "        f[i] = f[i] / temp\n",
    "        for j in range(i + 1, n):\n",
    "            temp = A[j,i].copy()\n",
    "            A[j,:] = A[j,:] - temp * A[i,:]\n",
    "            f[j] = f[j] - temp * f[i]\n",
    "    for i in range(n-1,-1,-1):\n",
    "        for j in range(i-1,-1,-1):\n",
    "            temp = A[j,i].copy()\n",
    "            A[j,:] = A[j,:] - temp * A[i,:]\n",
    "            f[j] = f[j] - temp * f[i]\n",
    "    print (\"Получено решение: {0}\".format(is_eye(A)))\n",
    "    print (\"Норма невязки {0}\".format(np.linalg.norm(np.dot(B,f) - g)))\n",
    "    print (\"Заняло {0} сек\".format(time.time() - start_time))\n",
    "        \n",
    "    return f\n",
    "\n",
    "def gauss_inv(B):             #обращение матрицы\n",
    "    start_time = time.time()\n",
    "    A = B.copy()\n",
    "    n = len(A)\n",
    "    C = np.eye(n)\n",
    "    for i in range(n):\n",
    "        temp = A[i,i]\n",
    "        A[i,:] = A[i,:] / temp\n",
    "        C[i,:] = C[i,:] / temp\n",
    "        for j in range(i + 1, n):\n",
    "            temp = A[j,i].copy()\n",
    "            A[j,:] = A[j,:] - temp * A[i,:]\n",
    "            C[j,:] = C[j,:] - temp * C[i,:]\n",
    "    for i in range(n-1,-1,-1):\n",
    "        for j in range(i-1,-1,-1):\n",
    "            temp = A[j,i].copy()\n",
    "            A[j,:] = A[j,:] - temp * A[i,:]\n",
    "            C[j,:] = C[j,:] - temp * C[i,:]\n",
    "    print (\"Полученная матрица является обратной: {0}\".format(is_eye(A)))\n",
    "    print (\"Заняло {0} сек\".format(time.time() - start_time))\n",
    "        \n",
    "    return C"
   ]
  },
  {
   "cell_type": "markdown",
   "metadata": {},
   "source": [
    "# Примеры"
   ]
  },
  {
   "cell_type": "code",
   "execution_count": 71,
   "metadata": {},
   "outputs": [
    {
     "data": {
      "image/png": "[encoded data removed]",
      "text/plain": [
       "<Figure size 432x288 with 1 Axes>"
      ]
     },
     "metadata": {
      "needs_background": "light"
     },
     "output_type": "display_data"
    }
   ],
   "source": [
    "def f(x):\n",
    "    return x**2 - 20 * np.sin(x)\n",
    "def df(x):\n",
    "    return 2*x - 20 * np.cos(x)\n",
    "\n",
    "plt.title(r'$y = x^2 - 20sin(x)$')\n",
    "plt.grid()\n",
    "\n",
    "x = np.linspace(-5,5 , 200)\n",
    "y = f(x)\n",
    "plt.plot(x, y)\n",
    "plt.show()"
   ]
  },
  {
   "cell_type": "markdown",
   "metadata": {},
   "source": [
    "3 корня, локализованных на отрезках:<br>\n",
    "1) (-5;-3)<br>\n",
    "2) (-1;1)<br>\n",
    "3) (2;4)<br>"
   ]
  },
  {
   "cell_type": "markdown",
   "metadata": {},
   "source": [
    "Первый корень лежит на (-5;-3):"
   ]
  },
  {
   "cell_type": "code",
   "execution_count": 72,
   "metadata": {},
   "outputs": [
    {
     "data": {
      "text/plain": [
       "(-1.0064231683416325e-10, 1.006423168336568e-10, 15)"
      ]
     },
     "execution_count": 72,
     "metadata": {},
     "output_type": "execute_result"
    }
   ],
   "source": [
    "root_newton(f,df, -5,-3,10**(-5), 50)"
   ]
  },
  {
   "cell_type": "code",
   "execution_count": 73,
   "metadata": {},
   "outputs": [
    {
     "name": "stdout",
     "output_type": "stream",
     "text": [
      "error: loaclly convex function\n"
     ]
    },
    {
     "data": {
      "text/plain": [
       "-1"
      ]
     },
     "execution_count": 73,
     "metadata": {},
     "output_type": "execute_result"
    }
   ],
   "source": [
    "root_dichotomy(f, -5, -3, 10**(-5))"
   ]
  },
  {
   "cell_type": "markdown",
   "metadata": {},
   "source": [
    "Метод Ньютона сошёлся к 0<br>\n",
    "Метод деления отрезка пополам не работает<br>\n",
    "Можно применить метод градиентного спуска:"
   ]
  },
  {
   "cell_type": "code",
   "execution_count": 74,
   "metadata": {},
   "outputs": [
    {
     "data": {
      "text/plain": [
       "(-4.268441510587997, 0.0006663529476220731, 0.15832822395480406)"
      ]
     },
     "execution_count": 74,
     "metadata": {},
     "output_type": "execute_result"
    }
   ],
   "source": [
    "t = 0.01\n",
    "x = -4\n",
    "for i in range(20):\n",
    "    x = x - df(x) * t\n",
    "y = x\n",
    "x = x - df(x) * t\n",
    "x, np.abs(x-y), f(x)"
   ]
  },
  {
   "cell_type": "markdown",
   "metadata": {},
   "source": [
    "$Таким\\  образом,\\  корень\\  равен\\ -4.268 \\pm0.001$"
   ]
  },
  {
   "cell_type": "markdown",
   "metadata": {},
   "source": [
    "Второй корень лежит на (-1;1):"
   ]
  },
  {
   "cell_type": "code",
   "execution_count": 75,
   "metadata": {},
   "outputs": [
    {
     "data": {
      "text/plain": [
       "(-1.2923288810178651e-06, 1.2923287975128986e-06, 2)"
      ]
     },
     "execution_count": 75,
     "metadata": {},
     "output_type": "execute_result"
    }
   ],
   "source": [
    "root_newton(f,df, -1,1.01,10**(-5), 50)"
   ]
  },
  {
   "cell_type": "code",
   "execution_count": 76,
   "metadata": {},
   "outputs": [
    {
     "data": {
      "text/plain": [
       "(-9.536743163845871e-07, 18)"
      ]
     },
     "execution_count": 76,
     "metadata": {},
     "output_type": "execute_result"
    }
   ],
   "source": [
    "root_dichotomy(f, -1, 1.05, 10**(-5))"
   ]
  },
  {
   "cell_type": "markdown",
   "metadata": {},
   "source": [
    "Оба метода сходтся к 0; метод Ньютона гораздо быстрее<br>\n",
    "Третий корен лежит на (2;4):"
   ]
  },
  {
   "cell_type": "code",
   "execution_count": 77,
   "metadata": {},
   "outputs": [
    {
     "data": {
      "text/plain": [
       "(2.7529466338446347, 2.5929480784725456e-11, 4)"
      ]
     },
     "execution_count": 77,
     "metadata": {},
     "output_type": "execute_result"
    }
   ],
   "source": [
    "root_newton(f,df, 2,4,10**(-5), 50)"
   ]
  },
  {
   "cell_type": "code",
   "execution_count": 78,
   "metadata": {},
   "outputs": [
    {
     "data": {
      "text/plain": [
       "(2.7529449462890625, 18)"
      ]
     },
     "execution_count": 78,
     "metadata": {},
     "output_type": "execute_result"
    }
   ],
   "source": [
    "root_dichotomy(f, 2, 4, 10**(-5))"
   ]
  },
  {
   "cell_type": "markdown",
   "metadata": {},
   "source": [
    "Оба метода сходятся к 2.75294"
   ]
  },
  {
   "cell_type": "markdown",
   "metadata": {},
   "source": [
    "# Пример в плоскости"
   ]
  },
  {
   "cell_type": "code",
   "execution_count": 79,
   "metadata": {},
   "outputs": [],
   "source": [
    "def f1(x,y):\n",
    "    return 2*x**2 - x*y -5*x + 1\n",
    "def f2(x,y):\n",
    "    return x + 3 * np.log(x)/np.log(10) - y**2\n",
    "\n",
    "def F(x):\n",
    "    return f1(x[0],x[1])**2 + f2(x[0],x[1])**2\n",
    "f1x = lambda x,y: 4*x - y - 5\n",
    "f1y = lambda x,y: -x\n",
    "f2x = lambda x,y: 1 + 3/np.log(10)/x\n",
    "f2y = lambda x,y: -2*y\n",
    "Fx = lambda x,y: 2 * f1(x,y) * f1x(x,y) + 2 * f2(x,y) * f2x(x,y)\n",
    "Fy = lambda x,y: 2 * f1(x,y) * f1y(x,y) + 2 * f2(x,y) * f2y(x,y)\n",
    "\n",
    "def dF(x):\n",
    "    return np.array([Fx(x[0],x[1]), Fy(x[0],x[1])])\n",
    "def f(x):\n",
    "    return np.array([f1(x[0],x[1]),f2(x[0],x[1])])\n",
    "def J(x):\n",
    "    return np.array([[f1x(x[0],x[1]),f1y(x[0],x[1])],[f2x(x[0],x[1]),f2y(x[0],x[1])]])"
   ]
  },
  {
   "cell_type": "markdown",
   "metadata": {},
   "source": [
    "Решать будем методом Ньютона и методом градиентного спуска для функционала F:"
   ]
  },
  {
   "cell_type": "code",
   "execution_count": 80,
   "metadata": {},
   "outputs": [
    {
     "data": {
      "text/plain": [
       "(array([3.48749633, 2.26171656]), 0.00010272383936412622, 12)"
      ]
     },
     "execution_count": 80,
     "metadata": {},
     "output_type": "execute_result"
    }
   ],
   "source": [
    "root_system_newton(f,J,np.array([30.05,40.05]),0.001, 100)"
   ]
  },
  {
   "cell_type": "code",
   "execution_count": 81,
   "metadata": {},
   "outputs": [
    {
     "data": {
      "text/plain": [
       "(array([3.40814384, 2.16112364]), 0.14310008762027238, 0.02552945203662448)"
      ]
     },
     "execution_count": 81,
     "metadata": {},
     "output_type": "execute_result"
    }
   ],
   "source": [
    "x = np.array([3,1])\n",
    "root_grad_desc(F, dF, x, 20, 0.01)"
   ]
  },
  {
   "cell_type": "markdown",
   "metadata": {},
   "source": [
    "Оба метода сошлись:<br>\n",
    "Метод Ньютона для систем сошёлся к\n",
    "$\n",
    "        x=\\begin{bmatrix}\n",
    "            3.487 \\\\\n",
    "            2.262 \\\\\n",
    "           \\end{bmatrix}\n",
    "\\ \n",
    "\\Delta |x| = 0.0001  $ <br>\n",
    "Метод градиентного спуска сошёлся к \n",
    "$\n",
    "        x=\\begin{bmatrix}\n",
    "            3.41 \\\\\n",
    "            2.16 \\\\\n",
    "           \\end{bmatrix}\n",
    "\\ \n",
    "\\Delta |x| = 0.14  $ <br>"
   ]
  },
  {
   "cell_type": "code",
   "execution_count": 82,
   "metadata": {},
   "outputs": [
    {
     "data": {
      "text/plain": [
       "(0.7390851332151606, 1.232595164407831e-32, 0.0)"
      ]
     },
     "execution_count": 82,
     "metadata": {},
     "output_type": "execute_result"
    }
   ],
   "source": [
    "root_grad_desc(lambda x: (x - np.cos(x))**2,lambda x: 2 * (x - np.cos(x)) * (1+np.sin(x)), 0.7, 100, 0.1)"
   ]
  },
  {
   "cell_type": "markdown",
   "metadata": {},
   "source": [
    "# Пример СЛАУ"
   ]
  },
  {
   "cell_type": "code",
   "execution_count": 90,
   "metadata": {},
   "outputs": [],
   "source": [
    "a = 10\n",
    "f = np.arange(1,101)\n",
    "f = f.astype(float)\n",
    "D = np.diagflat(np.ones(100) * a)\n",
    "A = np.copy(D)\n",
    "L = np.zeros([100,100])\n",
    "U = np.zeros([100,100])\n",
    "for i in range(-4,0):\n",
    "    B = np.ones(100 - np.abs(i))\n",
    "    L += np.diagflat(B, i)\n",
    "for i in range (1,5):\n",
    "    B = np.ones(100 - np.abs(i))\n",
    "    U += np.diagflat(B, i)\n",
    "A += U + L\n",
    "\n",
    "eig_max = eig(A)\n",
    "eig_min = 1/eig(np.linalg.inv(A))\n",
    "m = eig_max / eig_min"
   ]
  },
  {
   "cell_type": "code",
   "execution_count": 91,
   "metadata": {},
   "outputs": [
    {
     "data": {
      "text/plain": [
       "2.56"
      ]
     },
     "execution_count": 91,
     "metadata": {},
     "output_type": "execute_result"
    }
   ],
   "source": [
    "round(m,3)"
   ]
  },
  {
   "cell_type": "markdown",
   "metadata": {},
   "source": [
    "Число обусловленности системы = 2.55 <br>\n",
    "Матрица системы симметрична и положиетльно определена, таким образом метод Зейделя сходится<br>\n",
    "Метод Якоби тоже сходится, так как имеется диагональное преобладание<br>\n",
    "Критерием остановки итерационного процесса служит условие: норма невязки меньше eps"
   ]
  },
  {
   "cell_type": "code",
   "execution_count": 92,
   "metadata": {},
   "outputs": [
    {
     "name": "stdout",
     "output_type": "stream",
     "text": [
      "Номер итерации 5: норма невязки 100.51063125372335\n",
      "Номер итерации 10: норма невязки 31.116924132569853\n",
      "Номер итерации 15: норма невязки 9.73232650987516\n",
      "Номер итерации 20: норма невязки 3.06113104930254\n",
      "Номер итерации 25: норма невязки 0.9664045195830628\n",
      "Номер итерации 30: норма невязки 0.3059194349495573\n",
      "Номер итерации 35: норма невязки 0.09704238863563602\n",
      "Номер итерации 40: норма невязки 0.030835375518754825\n",
      "Номер итерации 45: норма невязки 0.009811833351205173\n",
      "Номер итерации 50: норма невязки 0.0031259087306904614\n",
      "Номер итерации 55: норма невязки 0.0009969200535027978\n",
      "Номер итерации 60: норма невязки 0.0003182355777071668\n",
      "Номер итерации 65: норма невязки 0.00010167108265379529\n",
      "Номер итерации 70: норма невязки 3.250642969619251e-05\n",
      "Номер итерации 75: норма невязки 1.0399969921410394e-05\n",
      "Заняло 0.04100227355957031 сек\n"
     ]
    }
   ],
   "source": [
    "x_Jac = iter_process_Jac(A, f, U, D, L, np.ones(len(f)), 0.00001)"
   ]
  },
  {
   "cell_type": "code",
   "execution_count": 93,
   "metadata": {},
   "outputs": [
    {
     "name": "stdout",
     "output_type": "stream",
     "text": [
      "Номер итерации 1: норма невязки 35.593152346261995\n",
      "Номер итерации 2: норма невязки 10.171111176101329\n",
      "Номер итерации 3: норма невязки 2.908136951542117\n",
      "Номер итерации 4: норма невязки 0.8317560575931394\n",
      "Номер итерации 5: норма невязки 0.23792093684503723\n",
      "Номер итерации 6: норма невязки 0.06805300697023561\n",
      "Номер итерации 7: норма невязки 0.01946098664148281\n",
      "Номер итерации 8: норма невязки 0.0055630156108933135\n",
      "Номер итерации 9: норма невязки 0.0015893132708030703\n",
      "Номер итерации 10: норма невязки 0.0004537202183143384\n",
      "Номер итерации 11: норма невязки 0.00012941051127321105\n",
      "Номер итерации 12: норма невязки 3.687014140426225e-05\n",
      "Номер итерации 13: норма невязки 1.0491082254769499e-05\n",
      "Номер итерации 14: норма невязки 2.980682757026389e-06\n",
      "Заняло 0.03198862075805664 сек\n"
     ]
    }
   ],
   "source": [
    "x_Seid = iter_process_Seid(A, f, U, D, L, np.ones(len(f)), 0.00001)"
   ]
  },
  {
   "cell_type": "code",
   "execution_count": 98,
   "metadata": {},
   "outputs": [
    {
     "name": "stdout",
     "output_type": "stream",
     "text": [
      "Получено решение: True\n",
      "Норма невязки 6.600366920924198e-14\n",
      "Заняло 0.08600544929504395 сек\n"
     ]
    }
   ],
   "source": [
    "x_gauss = gauss(A,f)"
   ]
  },
  {
   "cell_type": "markdown",
   "metadata": {},
   "source": [
    "Все работает!"
   ]
  }
 ],
 "metadata": {
  "kernelspec": {
   "display_name": "Python 3",
   "language": "python",
   "name": "python3"
  },
  "language_info": {
   "codemirror_mode": {
    "name": "ipython",
    "version": 3
   },
   "file_extension": ".py",
   "mimetype": "text/x-python",
   "name": "python",
   "nbconvert_exporter": "python",
   "pygments_lexer": "ipython3",
   "version": "3.8.4"
  }
 },
 "nbformat": 4,
 "nbformat_minor": 2
}
